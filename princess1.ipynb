{
 "cells": [
  {
   "cell_type": "code",
   "execution_count": 33,
   "metadata": {},
   "outputs": [],
   "source": [
    "#TASK: read the file and use the NLTK library to tokenize each word in the text\n",
    "\n",
    "import nltk\n",
    "from nltk.tokenize import word_tokenize\n",
    "from nltk.tokenize import sent_tokenize\n",
    "from nltk.tokenize import TweetTokenizer\n",
    "from nltk.probability import FreqDist\n",
    "from nltk.corpus import stopwords\n",
    "from nltk.stem import WordNetLemmatizer\n",
    "from nltk.sentiment.vader import SentimentIntensityAnalyzer\n",
    "import pandas as pd\n",
    "\n",
    "#this is sample data\n",
    "from nltk.corpus import names  \n",
    "\n",
    "\n",
    "from string import punctuation"
   ]
  },
  {
   "cell_type": "code",
   "execution_count": 34,
   "metadata": {},
   "outputs": [
    {
     "name": "stderr",
     "output_type": "stream",
     "text": [
      "[nltk_data] Downloading package punkt to\n",
      "[nltk_data]     C:\\Users\\GBTC406017ur\\AppData\\Roaming\\nltk_data...\n",
      "[nltk_data]   Package punkt is already up-to-date!\n",
      "[nltk_data] Downloading package wordnet to\n",
      "[nltk_data]     C:\\Users\\GBTC406017ur\\AppData\\Roaming\\nltk_data...\n",
      "[nltk_data]   Package wordnet is already up-to-date!\n",
      "[nltk_data] Downloading package names to\n",
      "[nltk_data]     C:\\Users\\GBTC406017ur\\AppData\\Roaming\\nltk_data...\n",
      "[nltk_data]   Package names is already up-to-date!\n",
      "[nltk_data] Downloading package stopwords to\n",
      "[nltk_data]     C:\\Users\\GBTC406017ur\\AppData\\Roaming\\nltk_data...\n",
      "[nltk_data]   Package stopwords is already up-to-date!\n",
      "[nltk_data] Downloading package vader_lexicon to\n",
      "[nltk_data]     C:\\Users\\GBTC406017ur\\AppData\\Roaming\\nltk_data...\n",
      "[nltk_data]   Package vader_lexicon is already up-to-date!\n"
     ]
    },
    {
     "data": {
      "text/plain": [
       "True"
      ]
     },
     "execution_count": 34,
     "metadata": {},
     "output_type": "execute_result"
    }
   ],
   "source": [
    "nltk.download('punkt')\n",
    "nltk.download('wordnet')\n",
    "nltk.download('names')\n",
    "nltk.download('stopwords')\n",
    "nltk.download('vader_lexicon')"
   ]
  },
  {
   "cell_type": "code",
   "execution_count": 35,
   "metadata": {},
   "outputs": [],
   "source": [
    "def appendlist(ptext):\n",
    "         return princesses.append(ptext)\n",
    "    "
   ]
  },
  {
   "cell_type": "code",
   "execution_count": 37,
   "metadata": {},
   "outputs": [],
   "source": [
    "princesses = []\n",
    "\n",
    "with open('datasets_12dancingprincesses.txt', 'r') as f:\n",
    "    text = \"\"\n",
    "    for line in f:\n",
    "        clean_line = line.strip() #get rid of newline character\n",
    "        if clean_line == '': pass  #this will skip over lines that only had a newline and are now blank\n",
    "        else:\n",
    "            \n",
    "            lower_line = clean_line.lower()\n",
    "            text += lower_line + \" \" #add the line to the string with a space to separate form new line\n",
    "        \n",
    "    "
   ]
  },
  {
   "cell_type": "code",
   "execution_count": 38,
   "metadata": {},
   "outputs": [
    {
     "name": "stdout",
     "output_type": "stream",
     "text": [
      "[]\n"
     ]
    }
   ],
   "source": [
    "print(princesses)"
   ]
  },
  {
   "cell_type": "code",
   "execution_count": 39,
   "metadata": {},
   "outputs": [
    {
     "data": {
      "text/plain": [
       "0"
      ]
     },
     "execution_count": 39,
     "metadata": {},
     "output_type": "execute_result"
    }
   ],
   "source": [
    "len(princesses)"
   ]
  },
  {
   "cell_type": "code",
   "execution_count": 40,
   "metadata": {},
   "outputs": [
    {
     "data": {
      "text/plain": [
       "'!\"#$%&\\'()*+,-./:;<=>?@[\\\\]^_`{|}~'"
      ]
     },
     "execution_count": 40,
     "metadata": {},
     "output_type": "execute_result"
    }
   ],
   "source": [
    "punctuation"
   ]
  },
  {
   "cell_type": "code",
   "execution_count": 41,
   "metadata": {},
   "outputs": [
    {
     "name": "stdout",
     "output_type": "stream",
     "text": [
      "!\"#$%&'()*+,-./:;<=>?@[\\]^_`{|}~\n"
     ]
    }
   ],
   "source": [
    "new_punctuation = (punctuation) \n",
    " \n",
    "  \n",
    " \n",
    "print(new_punctuation)\n",
    " "
   ]
  },
  {
   "cell_type": "code",
   "execution_count": 42,
   "metadata": {},
   "outputs": [
    {
     "data": {
      "text/plain": [
       "str"
      ]
     },
     "execution_count": 42,
     "metadata": {},
     "output_type": "execute_result"
    }
   ],
   "source": [
    "type(punctuation)"
   ]
  },
  {
   "cell_type": "code",
   "execution_count": 43,
   "metadata": {},
   "outputs": [],
   "source": [
    "i = 0\n",
    "for word in princesses:\n",
    "    \n",
    "    if word in punctuation:\n",
    "        del princesses[i]\n",
    "        i = i + 1        "
   ]
  },
  {
   "cell_type": "code",
   "execution_count": 44,
   "metadata": {},
   "outputs": [
    {
     "name": "stdout",
     "output_type": "stream",
     "text": [
      "[]\n"
     ]
    }
   ],
   "source": [
    "print(princesses)"
   ]
  },
  {
   "cell_type": "code",
   "execution_count": 45,
   "metadata": {},
   "outputs": [],
   "source": [
    "table =  str.maketrans({key: None for key in punctuation + '‘' + '’' })"
   ]
  },
  {
   "cell_type": "code",
   "execution_count": 46,
   "metadata": {},
   "outputs": [
    {
     "data": {
      "text/plain": [
       "'the twelve dancing princesses there was a king who had twelve beautiful daughters they slept in twelve beds all in one room and when they went to bed the doors were shut and locked up but every morning their shoes were found to be quite worn through as if they had been danced in all night and yet nobody could find out how it happened or where they had been then the king made it known to all the land that if any person could discover the secret and find out where it was that the princesses danced in the night he should have the one he liked best for his wife and should be king after his death but whoever tried and did not succeed after three days and nights should be put to death a kings son soon came he was well entertained and in the evening was taken to the chamber next to the one where the princesses lay in their twelve beds there he was to sit and watch where they went to dance and in order that nothing might pass without his hearing it the door of his chamber was left open but the kings son soon fell asleep and when he awoke in the morning he found that the princesses had all been dancing for the soles of their shoes were full of holes the same thing happened the second and third night so the king ordered his head to be cut off after him came several others but they had all the same luck and all lost their lives in the same manner now it chanced that an old soldier who had been wounded in battle and could fight no longer passed through the country where this king reigned and as he was travelling through a wood he met an old woman who asked him where he was going i hardly know where i am going or what i had better do said the soldier but i think i should like very well to find out where it is that the princesses dance and then in time i might be a king well said the old dame that is no very hard task only take care not to drink any of the wine which one of the princesses will bring to you in the evening and as soon as she leaves you pretend to be fast asleep then she gave him a cloak and said as soon as you put that on you will become invisible and you will then be able to follow the princesses wherever they go when the soldier heard all this good counsel he determined to try his luck so he went to the king and said he was willing to undertake the task he was as well received as the others had been and the king ordered fine royal robes to be given him and when the evening came he was led to the outer chamber just as he was going to lie down the eldest of the princesses brought him a cup of wine but the soldier threw it all away secretly taking care not to drink a drop then he laid himself down on his bed and in a little while began to snore very loud as if he was fast asleep when the twelve princesses heard this they laughed heartily and the eldest said this fellow too might have done a wiser thing than lose his life in this way then they rose up and opened their drawers and boxes and took out all their fine clothes and dressed themselves at the glass and skipped about as if they were eager to begin dancing but the youngest said i dont know how it is while you are so happy i feel very uneasy i am sure some mischance will befall us you simpleton said the eldest you are always afraid have you forgotten how many kings sons have already watched in vain and as for this soldier even if i had not given him his sleeping draught he would have slept soundly enough when they were all ready they went and looked at the soldier but he snored on and did not stir hand or foot so they thought they were quite safe and the eldest went up to her own bed and clapped her hands and the bed sank into the floor and a trapdoor flew open the soldier saw them going down through the trapdoor one after another the eldest leading the way and thinking he had no time to lose he jumped up put on the cloak which the old woman had given him and followed them but in the middle of the stairs he trod on the gown of the youngest princess and she cried out to her sisters all is not right someone took hold of my gown you silly creature said the eldest it is nothing but a nail in the wall then down they all went and at the bottom they found themselves in a most delightful grove of trees and the leaves were all of silver and glittered and sparkled beautifully the soldier wished to take away some token of the place so he broke off a little branch and there came a loud noise from the tree then the youngest daughter said again i am sure all is not rightdid not you hear that noise that never happened before but the eldest said it is only our princes who are shouting for joy at our approach then they came to another grove of trees where all the leaves were of gold and afterwards to a third where the leaves were all glittering diamonds and the soldier broke a branch from each and every time there was a loud noise which made the youngest sister tremble with fear but the eldest still said it was only the princes who were crying for joy so they went on till they came to a great lake and at the side of the lake there lay twelve little boats with twelve handsome princes in them who seemed to be waiting there for the princesses one of the princesses went into each boat and the soldier stepped into the same boat with the youngest as they were rowing over the lake the prince who was in the boat with the youngest princess and the soldier said i do not know why it is but though i am rowing with all my might we do not get on so fast as usual and i am quite tired the boat seems very heavy today it is only the heat of the weather said the princess i feel it very warm too on the other side of the lake stood a fine illuminated castle from which came the merry music of horns and trumpets there they all landed and went into the castle and each prince danced with his princess and the soldier who was all the time invisible danced with them too and when any of the princesses had a cup of wine set by her he drank it all up so that when she put the cup to her mouth it was empty at this too the youngest sister was terribly frightened but the eldest always silenced her they danced on till three oclock in the morning and then all their shoes were worn out so that they were obliged to leave off the princes rowed them back again over the lake but this time the soldier placed himself in the boat with the eldest princess and on the opposite shore they took leave of each other the princesses promising to come again the next night when they came to the stairs the soldier ran on before the princesses and laid himself down and as the twelve sisters slowly came up very much tired they heard him snoring in his bed so they said now all is quite safe then they undressed themselves put away their fine clothes pulled off their shoes and went to bed in the morning the soldier said nothing about what had happened but determined to see more of this strange adventure and went again the second and third night and every thing happened just as before the princesses danced each time till their shoes were worn to pieces and then returned home however on the third night the soldier carried away one of the golden cups as a token of where he had been as soon as the time came when he was to declare the secret he was taken before the king with the three branches and the golden cup and the twelve princesses stood listening behind the door to hear what he would say and when the king asked him where do my twelve daughters dance at night he answered with twelve princes in a castle under ground and then he told the king all that had happened and showed him the three branches and the golden cup which he had brought with him then the king called for the princesses and asked them whether what the soldier said was true and when they saw that they were discovered and that it was of no use to deny what had happened they confessed it all and the king asked the soldier which of them he would choose for his wife and he answered i am not very young so i will have the eldestand they were married that very day and the soldier was chosen to be the kings heir '"
      ]
     },
     "execution_count": 46,
     "metadata": {},
     "output_type": "execute_result"
    }
   ],
   "source": [
    "nopunct_str = text.translate(table)\n",
    "nopunct_str"
   ]
  },
  {
   "cell_type": "code",
   "execution_count": 47,
   "metadata": {},
   "outputs": [
    {
     "data": {
      "text/plain": [
       "['the',\n",
       " 'twelve',\n",
       " 'dancing',\n",
       " 'princesses',\n",
       " 'there',\n",
       " 'was',\n",
       " 'a',\n",
       " 'king',\n",
       " 'who',\n",
       " 'had']"
      ]
     },
     "execution_count": 47,
     "metadata": {},
     "output_type": "execute_result"
    }
   ],
   "source": [
    "princess_tknzls = word_tokenize(nopunct_str)\n",
    "princess_tknzls[:10]"
   ]
  },
  {
   "cell_type": "code",
   "execution_count": 49,
   "metadata": {},
   "outputs": [
    {
     "data": {
      "text/plain": [
       "['i',\n",
       " 'me',\n",
       " 'my',\n",
       " 'myself',\n",
       " 'we',\n",
       " 'our',\n",
       " 'ours',\n",
       " 'ourselves',\n",
       " 'you',\n",
       " \"you're\",\n",
       " \"you've\",\n",
       " \"you'll\",\n",
       " \"you'd\",\n",
       " 'your',\n",
       " 'yours',\n",
       " 'yourself',\n",
       " 'yourselves',\n",
       " 'he',\n",
       " 'him',\n",
       " 'his',\n",
       " 'himself',\n",
       " 'she',\n",
       " \"she's\",\n",
       " 'her',\n",
       " 'hers',\n",
       " 'herself',\n",
       " 'it',\n",
       " \"it's\",\n",
       " 'its',\n",
       " 'itself',\n",
       " 'they',\n",
       " 'them',\n",
       " 'their',\n",
       " 'theirs',\n",
       " 'themselves',\n",
       " 'what',\n",
       " 'which',\n",
       " 'who',\n",
       " 'whom',\n",
       " 'this',\n",
       " 'that',\n",
       " \"that'll\",\n",
       " 'these',\n",
       " 'those',\n",
       " 'am',\n",
       " 'is',\n",
       " 'are',\n",
       " 'was',\n",
       " 'were',\n",
       " 'be',\n",
       " 'been',\n",
       " 'being',\n",
       " 'have',\n",
       " 'has',\n",
       " 'had',\n",
       " 'having',\n",
       " 'do',\n",
       " 'does',\n",
       " 'did',\n",
       " 'doing',\n",
       " 'a',\n",
       " 'an',\n",
       " 'the',\n",
       " 'and',\n",
       " 'but',\n",
       " 'if',\n",
       " 'or',\n",
       " 'because',\n",
       " 'as',\n",
       " 'until',\n",
       " 'while',\n",
       " 'of',\n",
       " 'at',\n",
       " 'by',\n",
       " 'for',\n",
       " 'with',\n",
       " 'about',\n",
       " 'against',\n",
       " 'between',\n",
       " 'into',\n",
       " 'through',\n",
       " 'during',\n",
       " 'before',\n",
       " 'after',\n",
       " 'above',\n",
       " 'below',\n",
       " 'to',\n",
       " 'from',\n",
       " 'up',\n",
       " 'down',\n",
       " 'in',\n",
       " 'out',\n",
       " 'on',\n",
       " 'off',\n",
       " 'over',\n",
       " 'under',\n",
       " 'again',\n",
       " 'further',\n",
       " 'then',\n",
       " 'once',\n",
       " 'here',\n",
       " 'there',\n",
       " 'when',\n",
       " 'where',\n",
       " 'why',\n",
       " 'how',\n",
       " 'all',\n",
       " 'any',\n",
       " 'both',\n",
       " 'each',\n",
       " 'few',\n",
       " 'more',\n",
       " 'most',\n",
       " 'other',\n",
       " 'some',\n",
       " 'such',\n",
       " 'no',\n",
       " 'nor',\n",
       " 'not',\n",
       " 'only',\n",
       " 'own',\n",
       " 'same',\n",
       " 'so',\n",
       " 'than',\n",
       " 'too',\n",
       " 'very',\n",
       " 's',\n",
       " 't',\n",
       " 'can',\n",
       " 'will',\n",
       " 'just',\n",
       " 'don',\n",
       " \"don't\",\n",
       " 'should',\n",
       " \"should've\",\n",
       " 'now',\n",
       " 'd',\n",
       " 'll',\n",
       " 'm',\n",
       " 'o',\n",
       " 're',\n",
       " 've',\n",
       " 'y',\n",
       " 'ain',\n",
       " 'aren',\n",
       " \"aren't\",\n",
       " 'couldn',\n",
       " \"couldn't\",\n",
       " 'didn',\n",
       " \"didn't\",\n",
       " 'doesn',\n",
       " \"doesn't\",\n",
       " 'hadn',\n",
       " \"hadn't\",\n",
       " 'hasn',\n",
       " \"hasn't\",\n",
       " 'haven',\n",
       " \"haven't\",\n",
       " 'isn',\n",
       " \"isn't\",\n",
       " 'ma',\n",
       " 'mightn',\n",
       " \"mightn't\",\n",
       " 'mustn',\n",
       " \"mustn't\",\n",
       " 'needn',\n",
       " \"needn't\",\n",
       " 'shan',\n",
       " \"shan't\",\n",
       " 'shouldn',\n",
       " \"shouldn't\",\n",
       " 'wasn',\n",
       " \"wasn't\",\n",
       " 'weren',\n",
       " \"weren't\",\n",
       " 'won',\n",
       " \"won't\",\n",
       " 'wouldn',\n",
       " \"wouldn't\"]"
      ]
     },
     "execution_count": 49,
     "metadata": {},
     "output_type": "execute_result"
    }
   ],
   "source": [
    "eng_stopwords = stopwords.words('english')\n",
    "eng_stopwords\n"
   ]
  },
  {
   "cell_type": "code",
   "execution_count": 50,
   "metadata": {},
   "outputs": [
    {
     "data": {
      "text/plain": [
       "1605"
      ]
     },
     "execution_count": 50,
     "metadata": {},
     "output_type": "execute_result"
    }
   ],
   "source": [
    "len(princess_tknzls)   #number of tokens before removing stopwords"
   ]
  },
  {
   "cell_type": "code",
   "execution_count": 51,
   "metadata": {},
   "outputs": [
    {
     "data": {
      "text/plain": [
       "list"
      ]
     },
     "execution_count": 51,
     "metadata": {},
     "output_type": "execute_result"
    }
   ],
   "source": [
    "type(eng_stopwords)"
   ]
  },
  {
   "cell_type": "code",
   "execution_count": 54,
   "metadata": {},
   "outputs": [],
   "source": [
    "#empty list to hold non-stopword tokens\n",
    "clean_tknzls = []\n",
    "\n",
    "for token in princess_tknzls:\n",
    "    \n",
    "    #if the token is a stopword, skip it\n",
    "    if token in eng_stopwords: pass\n",
    "    \n",
    "    #otherwise, add the token to the clean_tknz list\n",
    "    else:\n",
    "        clean_tknzls.append(token)\n"
   ]
  },
  {
   "cell_type": "code",
   "execution_count": 55,
   "metadata": {},
   "outputs": [
    {
     "data": {
      "text/plain": [
       "667"
      ]
     },
     "execution_count": 55,
     "metadata": {},
     "output_type": "execute_result"
    }
   ],
   "source": [
    "len(clean_tknzls)"
   ]
  },
  {
   "cell_type": "code",
   "execution_count": 57,
   "metadata": {},
   "outputs": [
    {
     "data": {
      "text/plain": [
       "[('soldier', 19),\n",
       " ('princesses', 17),\n",
       " ('said', 16),\n",
       " ('king', 13),\n",
       " ('twelve', 11),\n",
       " ('went', 11),\n",
       " ('came', 10),\n",
       " ('eldest', 10),\n",
       " ('one', 7),\n",
       " ('night', 7)]"
      ]
     },
     "execution_count": 57,
     "metadata": {},
     "output_type": "execute_result"
    }
   ],
   "source": [
    "#make a frequency distribution dictionary\n",
    "tknz_freq = FreqDist(clean_tknzls)\n",
    "\n",
    "tknz_freq.most_common(10)  #top 10 words in the text"
   ]
  },
  {
   "cell_type": "code",
   "execution_count": null,
   "metadata": {},
   "outputs": [],
   "source": []
  }
 ],
 "metadata": {
  "kernelspec": {
   "display_name": "Python 3",
   "language": "python",
   "name": "python3"
  },
  "language_info": {
   "codemirror_mode": {
    "name": "ipython",
    "version": 3
   },
   "file_extension": ".py",
   "mimetype": "text/x-python",
   "name": "python",
   "nbconvert_exporter": "python",
   "pygments_lexer": "ipython3",
   "version": "3.7.6"
  }
 },
 "nbformat": 4,
 "nbformat_minor": 2
}
